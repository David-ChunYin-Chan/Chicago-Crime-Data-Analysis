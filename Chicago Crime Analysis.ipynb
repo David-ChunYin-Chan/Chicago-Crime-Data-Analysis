{
 "cells": [
  {
   "cell_type": "markdown",
   "id": "adfcad33",
   "metadata": {},
   "source": [
    "# Introduction"
   ]
  },
  {
   "cell_type": "markdown",
   "id": "3bd15c57",
   "metadata": {},
   "source": [
    "This project delves into an in-depth analysis of Chicago Crime Data spanning the years 2001 to 2023. By leveraging various data manipulation and visualization techniques, we aim to uncover trends, patterns, and noteworthy insights within the dataset. The investigation encompasses a broad spectrum, including temporal trends, geographical variations, crime types, and the impact of external factors such as the COVID-19 pandemic. <br>\n",
    "The findings presented in this project contribute to a comprehensive understanding of the dynamics and characteristics of criminal activities in Chicago over the specified time period."
   ]
  },
  {
   "cell_type": "markdown",
   "id": "86c3ab40",
   "metadata": {},
   "source": [
    "# Acknowledgements"
   ]
  },
  {
   "cell_type": "markdown",
   "id": "3e8d2397",
   "metadata": {},
   "source": [
    "The Chicago Crime Data from 2001 to 2023 have been generously provided by the Chicago Police Department and the City of Chicago. This dataset is publicly available on Chicago Data Portal https://data.cityofchicago.org/Public-Safety/Crimes-2001-to-Present/ijzp-q8t2/about_data with applicable terms.\n",
    "\n",
    "Additionally, the population data by police district in Chicago have been contributed by the Chicago Recovery Plan, accessible at Chicago Recovery Plan - Geographies https://chirecoveryplan.com/geographies/#police-districts."
   ]
  },
  {
   "cell_type": "markdown",
   "id": "25b82d74",
   "metadata": {},
   "source": [
    "# 1: Data Collection"
   ]
  },
  {
   "cell_type": "markdown",
   "id": "76235dfd",
   "metadata": {},
   "source": [
    "## 1.1: Chicago Crime Data"
   ]
  },
  {
   "cell_type": "markdown",
   "id": "1dff2f32",
   "metadata": {},
   "source": [
    "The data is extracted from the Chicago Police Department's CLEAR (Citizen Law Enforcement Analysis and Reporting) system. The dataset reflects reported incidents of crime (with the exception of murders where data exists for each victim) that occurred in the City of Chicago from 2001 to present, minus the most recent seven days.  In order to protect the privacy of crime victims, addresses are shown at the block level only and specific locations are not identified."
   ]
  },
  {
   "cell_type": "markdown",
   "id": "90fa310b",
   "metadata": {},
   "source": [
    "From the dataset source, there are 22 columns in the dataset:\n",
    "- **ID**: Unique identifier for the record\n",
    "- **Case Number**: The Chicago Police Department RD Number (Records Division Number), which is unique to the incident.\n",
    "- **Date**: Date when the incident occurred. this is sometimes a best estimate.\n",
    "- **Block**: The partially redacted address where the incident occurred, placing it on the same block as the actual address.\n",
    "- **IUCR**: The Illinois Unifrom Crime Reporting code. This is directly linked to the Primary Type and Description. See the list of IUCR codes at https://data.cityofchicago.org/d/c7ck-438e.\n",
    "- **Primary Type**: The primary description of the IUCR code.\n",
    "- **Description**: The secondary description of the IUCR code, a subcategory of the primary description.\n",
    "- **Location Description**: Description of the location where the incident occurred.\n",
    "- **Arrest**: Indicates whether an arrest was made.\n",
    "- **Domestic**: Indicates whether the incident was domestic-related as defined by the Illinois Domestic Violence Act.\n",
    "- **Beat**: Indicates the beat where the incident occurred. A beat is the smallest police geographic area – each beat has a dedicated police beat car. Three to five beats make up a police sector, and three sectors make up a police district. The Chicago Police Department has 22 police districts. See the beats at https://data.cityofchicago.org/d/aerh-rz74.\n",
    "- **District**: Indicates the police district where the incident occurred. See the districts at https://data.cityofchicago.org/d/fthy-xz3r.\n",
    "- **Ward**: The ward (City Council district) where the incident occurred. See the wards at https://data.cityofchicago.org/d/sp34-6z76.\n",
    "- **Community Area**: Indicates the community area where the incident occurred. Chicago has 77 community areas. See the community areas at https://data.cityofchicago.org/d/cauq-8yn6.\n",
    "- **FBI Code**: Indicates the crime classification as outlined in the FBI's National Incident-Based Reporting System (NIBRS). See the Chicago Police Department listing of these classifications at http://gis.chicagopolice.org/clearmap_crime_sums/crime_types.html.\n",
    "- **X Coordinate**: The x coordinate of the location where the incident occurred in State Plane Illinois East NAD 1983 projection. This location is shifted from the actual location for partial redaction but falls on the same block.\n",
    "- **Y Coordinate**: The y coordinate of the location where the incident occurred in State Plane Illinois East NAD 1983 projection. This location is shifted from the actual location for partial redaction but falls on the same block.\n",
    "- **Year**: Year the incident occurred.\n",
    "- **Update On**: Date and time the record was last updated.\n",
    "- **Latitude**: The latitude of the location where the incident occurred. This location is shifted from the actual location for partial redaction but falls on the same block.\n",
    "- **Longitude**: The longitude of the location where the incident occurred. This location is shifted from the actual location for partial redaction but falls on the same block.\n",
    "- **Location**: The location where the incident occurred in a format that allows for creation of maps and other geographic operations on this data portal. This location is shifted from the actual location for partial redaction but falls on the same block."
   ]
  },
  {
   "cell_type": "markdown",
   "id": "3927b05f",
   "metadata": {},
   "source": [
    "### 1.1.1: Create Table for the Dataset"
   ]
  },
  {
   "cell_type": "markdown",
   "id": "b937eede",
   "metadata": {},
   "source": [
    "```sql\n",
    "CREATE TABLE crimes (\n",
    "\tid BIGSERIAL NOT NULL PRIMARY KEY,\n",
    "\tcase_no VARCHAR(10),\n",
    "\tcrime_date TIMESTAMP ,\n",
    "\tblock VARCHAR(100),\n",
    "\tiucr VARCHAR(10),\n",
    "\tprimary_type VARCHAR(50),\n",
    "\tdescription VARCHAR(100),\n",
    "\tlocation_description VARCHAR(500),\n",
    "\tarrest BOOLEAN,\n",
    "\tdomestic BOOLEAN,\n",
    "\tbeat VARCHAR(10),\n",
    "\tdistrict VARCHAR(10),\n",
    "\tward VARCHAR(10),\n",
    "\tcommunity_area VARCHAR(10),\n",
    "\tfbi_code VARCHAR(10),\n",
    "\tx_coord FLOAT(16),\n",
    "\ty_coord FLOAT(16),\n",
    "\tcrime_year SMALLINT,\n",
    "\tupdated_on TIMESTAMP,\n",
    "\tlat FLOAT(16),\n",
    "\tlong FLOAT(16),\n",
    "\tloc VARCHAR(100)\n",
    ")\n",
    "```"
   ]
  },
  {
   "cell_type": "markdown",
   "id": "928b224f",
   "metadata": {},
   "source": [
    "### 1.1.2: Insert Data"
   ]
  },
  {
   "cell_type": "markdown",
   "id": "56fbd05b",
   "metadata": {},
   "source": [
    "We imported the data into the table using pgAdmin, the graphical user interface for PostgreSQL. <br>\n",
    "Now, let's take a look at a few rows from the table to get a quick overview of the dataset."
   ]
  },
  {
   "cell_type": "markdown",
   "id": "6b2d59a7",
   "metadata": {},
   "source": [
    "```sql\n",
    "SELECT *\n",
    "FROM crimes\n",
    "LIMIT 5;\n",
    "```"
   ]
  },
  {
   "cell_type": "markdown",
   "id": "84f17a37",
   "metadata": {},
   "source": [
    "<img src=\"Screenshots/1.1.2_preview.png\"/>"
   ]
  },
  {
   "cell_type": "markdown",
   "id": "f75c9ebf",
   "metadata": {},
   "source": [
    "## 1.2: Chicago Population Data"
   ]
  },
  {
   "cell_type": "markdown",
   "id": "f0ea4e5b",
   "metadata": {},
   "source": [
    "To compute crime rates, it is essential to possess population data categorized by police district — an element absent from the current dataset. Consequently, we have procured the requisite population information from https://chirecoveryplan.com/ through the implementation of web scraping techniques."
   ]
  },
  {
   "cell_type": "code",
   "execution_count": 1,
   "id": "8ccd271f",
   "metadata": {},
   "outputs": [],
   "source": [
    "# Import necessary libraries for web scraping and data processing\n",
    "import requests\n",
    "from bs4 import BeautifulSoup\n",
    "import pandas as pd"
   ]
  },
  {
   "cell_type": "code",
   "execution_count": 2,
   "id": "655dc9d9",
   "metadata": {},
   "outputs": [],
   "source": [
    "DISTRICTS = [1,2,3,4,5,6,7,8,9,10,11,12,14,15,16,17,18,19,20,22,24,25,31]\n",
    "HEADERS = {'User-Agent': 'Mozilla/5.0 (Windows NT 6.1; WOW64) AppleWebKit/537.36 (KHTML, like Gecko) Chrome/47.0.2526.111 Safari/537.36'}"
   ]
  },
  {
   "cell_type": "code",
   "execution_count": 3,
   "id": "4d8c8963",
   "metadata": {},
   "outputs": [],
   "source": [
    "populations = {}\n",
    "for district in DISTRICTS:\n",
    "    url = f'https://chirecoveryplan.com/geography/police-district-{district}/'\n",
    "    r = requests.get(url=url, headers=HEADERS)\n",
    "    soup = BeautifulSoup(r.content, 'html5lib')\n",
    "    pop = 0\n",
    "    for i, text in enumerate(soup.find_all('table')[0].find_all('tbody')[0].find_all('td')):\n",
    "        if i % 4 == 1:\n",
    "            pop += int(text.text.replace(',',''))\n",
    "    populations[district] = pop\n",
    "populations = pd.DataFrame.from_dict(populations, orient='index', columns=['Population'])"
   ]
  },
  {
   "cell_type": "code",
   "execution_count": 6,
   "id": "d2ab95f1",
   "metadata": {},
   "outputs": [
    {
     "data": {
      "text/html": [
       "<div>\n",
       "<style scoped>\n",
       "    .dataframe tbody tr th:only-of-type {\n",
       "        vertical-align: middle;\n",
       "    }\n",
       "\n",
       "    .dataframe tbody tr th {\n",
       "        vertical-align: top;\n",
       "    }\n",
       "\n",
       "    .dataframe thead th {\n",
       "        text-align: right;\n",
       "    }\n",
       "</style>\n",
       "<table border=\"1\" class=\"dataframe\">\n",
       "  <thead>\n",
       "    <tr style=\"text-align: right;\">\n",
       "      <th></th>\n",
       "      <th>Population</th>\n",
       "    </tr>\n",
       "  </thead>\n",
       "  <tbody>\n",
       "    <tr>\n",
       "      <th>1</th>\n",
       "      <td>108554</td>\n",
       "    </tr>\n",
       "    <tr>\n",
       "      <th>2</th>\n",
       "      <td>110811</td>\n",
       "    </tr>\n",
       "    <tr>\n",
       "      <th>3</th>\n",
       "      <td>92057</td>\n",
       "    </tr>\n",
       "    <tr>\n",
       "      <th>4</th>\n",
       "      <td>128467</td>\n",
       "    </tr>\n",
       "    <tr>\n",
       "      <th>5</th>\n",
       "      <td>81869</td>\n",
       "    </tr>\n",
       "  </tbody>\n",
       "</table>\n",
       "</div>"
      ],
      "text/plain": [
       "   Population\n",
       "1      108554\n",
       "2      110811\n",
       "3       92057\n",
       "4      128467\n",
       "5       81869"
      ]
     },
     "execution_count": 6,
     "metadata": {},
     "output_type": "execute_result"
    }
   ],
   "source": [
    "populations.head()"
   ]
  },
  {
   "cell_type": "code",
   "execution_count": 5,
   "id": "084803f9",
   "metadata": {},
   "outputs": [],
   "source": [
    "populations.to_excel('Population by District.xlsx')"
   ]
  },
  {
   "cell_type": "markdown",
   "id": "5fa46b47",
   "metadata": {},
   "source": [
    "## 1.3: Police District Geospatial Data"
   ]
  },
  {
   "cell_type": "markdown",
   "id": "04910051",
   "metadata": {},
   "source": [
    "Additionally, in order to generate visual representations in the dashboard, it is imperative to acquire geographical boundaries for the 22 police districts. This specific data can be sourced from the following link: https://data.cityofchicago.org/Public-Safety/Boundaries-Police-Districts-current-/fthy-xz3r."
   ]
  },
  {
   "cell_type": "markdown",
   "id": "93965222",
   "metadata": {},
   "source": [
    "# 2: Data Cleaning"
   ]
  },
  {
   "cell_type": "markdown",
   "id": "e14cc354",
   "metadata": {},
   "source": [
    "## 2.1: Primary Types of Crimes"
   ]
  },
  {
   "cell_type": "markdown",
   "id": "e4a5e187",
   "metadata": {},
   "source": [
    "Let's run the query below to explore the distribution of primary crime types."
   ]
  },
  {
   "cell_type": "markdown",
   "id": "5886b43e",
   "metadata": {},
   "source": [
    "```sql\n",
    "SELECT primary_type, COUNT(primary_type) AS type_freq\n",
    "FROM crimes\n",
    "GROUP BY primary_type\n",
    "ORDER BY primary_type;\n",
    "```"
   ]
  },
  {
   "cell_type": "markdown",
   "id": "ff506529",
   "metadata": {},
   "source": [
    "We can see there are 37 distinct crime types, with some exhibiting similarities in meaning."
   ]
  },
  {
   "cell_type": "markdown",
   "id": "39945255",
   "metadata": {},
   "source": [
    "<div>\n",
    "<img src=\"Screenshots/2.1_similar_types_1.png\"/>\n",
    "<img src=\"Screenshots/2.1_similar_types_2.png\"/>\n",
    "</div>"
   ]
  },
  {
   "cell_type": "markdown",
   "id": "d0080323",
   "metadata": {},
   "source": [
    "We will employ the following queries for grouping."
   ]
  },
  {
   "cell_type": "markdown",
   "id": "54ad0386",
   "metadata": {},
   "source": [
    "```sql\n",
    "UPDATE crimes\n",
    "SET primary_type = 'CRIMINAL SEXUAL ASSAULT'\n",
    "WHERE primary_type = 'CRIM SEXUAL ASSAULT';\n",
    "\n",
    "UPDATE crimes\n",
    "SET primary_type = 'NARCOTICS'\n",
    "WHERE primary_type = 'OTHER NARCOTIC VIOLATION';\n",
    "\n",
    "```"
   ]
  },
  {
   "cell_type": "markdown",
   "id": "59d0472d",
   "metadata": {},
   "source": [
    "Additionally, it is crucial to identify and eliminate non-criminal types from the dataset, given our focus on analyzing criminal data."
   ]
  },
  {
   "cell_type": "markdown",
   "id": "0f169d5e",
   "metadata": {},
   "source": [
    "<img src=\"Screenshots/2.1_non-crimes.png\"/>"
   ]
  },
  {
   "cell_type": "markdown",
   "id": "2741d58b",
   "metadata": {},
   "source": [
    "```sql\n",
    "DELETE FROM crimes\n",
    "WHERE primary_type IN ('NON-CRIMINAL', 'NON-CRIMINAL (SUBJECT SPECIFIED)', 'NON - CRIMINAL');\n",
    "```"
   ]
  },
  {
   "cell_type": "markdown",
   "id": "c03e7624",
   "metadata": {},
   "source": [
    "Furthermore, it is worth noting the existence of an uncommon crime type, represented by only one case among the eight million records."
   ]
  },
  {
   "cell_type": "markdown",
   "id": "0c208cd7",
   "metadata": {},
   "source": [
    "<img src=\"Screenshots/2.1_rare_types.png\"/>"
   ]
  },
  {
   "cell_type": "markdown",
   "id": "2bbc41b4",
   "metadata": {},
   "source": [
    "Considering the dataset columns, the \"Domestic\" column specifically denotes whether an incident was domestic in nature or not. <br>\n",
    "Given that this rare type lacks additional information and there is no evidence specifying the nature of the crimes, we reclassify this particular criminal type as \"Others.\""
   ]
  },
  {
   "cell_type": "markdown",
   "id": "1ad725fb",
   "metadata": {},
   "source": [
    "```sql\n",
    "UPDATE crimes\n",
    "SET primary_type = 'OTHER OFFENSE'\n",
    "WHERE primary_type = 'DOMESTIC VIOLENCE';\n",
    "```"
   ]
  },
  {
   "cell_type": "markdown",
   "id": "df95f8af",
   "metadata": {},
   "source": [
    "We are left with 30 distinct crime types, posing a challenge for comprehensive visualization. To enhance clarity, we have manually classified the crimes into five classes:\n",
    "- Property Offences\n",
    "- Violent & Homicide\n",
    "- Sexual Offences\n",
    "- Disorderly Conduct\n",
    "- Others"
   ]
  },
  {
   "cell_type": "markdown",
   "id": "fa2486d8",
   "metadata": {},
   "source": [
    "We will create a new table to store the classification shown below."
   ]
  },
  {
   "cell_type": "markdown",
   "id": "94efb388",
   "metadata": {},
   "source": [
    "```sql\n",
    "CREATE TABLE crime_class (\n",
    "\tprimary_type VARCHAR(50) NOT NULL PRIMARY KEY,\n",
    "\tcrime_class VARCHAR(50) NOT NULL\n",
    ");\n",
    "```"
   ]
  },
  {
   "cell_type": "code",
   "execution_count": 8,
   "id": "21ccf618",
   "metadata": {},
   "outputs": [
    {
     "data": {
      "text/html": [
       "<div>\n",
       "<style scoped>\n",
       "    .dataframe tbody tr th:only-of-type {\n",
       "        vertical-align: middle;\n",
       "    }\n",
       "\n",
       "    .dataframe tbody tr th {\n",
       "        vertical-align: top;\n",
       "    }\n",
       "\n",
       "    .dataframe thead th {\n",
       "        text-align: right;\n",
       "    }\n",
       "</style>\n",
       "<table border=\"1\" class=\"dataframe\">\n",
       "  <thead>\n",
       "    <tr style=\"text-align: right;\">\n",
       "      <th></th>\n",
       "      <th>primary_type</th>\n",
       "      <th>class</th>\n",
       "    </tr>\n",
       "  </thead>\n",
       "  <tbody>\n",
       "    <tr>\n",
       "      <th>0</th>\n",
       "      <td>ARSON</td>\n",
       "      <td>Property Offences</td>\n",
       "    </tr>\n",
       "    <tr>\n",
       "      <th>1</th>\n",
       "      <td>ASSAULT</td>\n",
       "      <td>Violent &amp; Homicide</td>\n",
       "    </tr>\n",
       "    <tr>\n",
       "      <th>2</th>\n",
       "      <td>BATTERY</td>\n",
       "      <td>Violent &amp; Homicide</td>\n",
       "    </tr>\n",
       "    <tr>\n",
       "      <th>3</th>\n",
       "      <td>BURGLARY</td>\n",
       "      <td>Property Offences</td>\n",
       "    </tr>\n",
       "    <tr>\n",
       "      <th>4</th>\n",
       "      <td>CONCEALED CARRY LICENSE VIOLATION</td>\n",
       "      <td>Violent &amp; Homicide</td>\n",
       "    </tr>\n",
       "    <tr>\n",
       "      <th>5</th>\n",
       "      <td>CRIMINAL DAMAGE</td>\n",
       "      <td>Property Offences</td>\n",
       "    </tr>\n",
       "    <tr>\n",
       "      <th>6</th>\n",
       "      <td>CRIMINAL SEXUAL ASSAULT</td>\n",
       "      <td>Sexual Offences</td>\n",
       "    </tr>\n",
       "    <tr>\n",
       "      <th>7</th>\n",
       "      <td>CRIMINAL TRESPASS</td>\n",
       "      <td>Disorderly Conduct</td>\n",
       "    </tr>\n",
       "    <tr>\n",
       "      <th>8</th>\n",
       "      <td>DECEPTIVE PRACTICE</td>\n",
       "      <td>Property Offences</td>\n",
       "    </tr>\n",
       "    <tr>\n",
       "      <th>9</th>\n",
       "      <td>GAMBLING</td>\n",
       "      <td>Disorderly Conduct</td>\n",
       "    </tr>\n",
       "    <tr>\n",
       "      <th>10</th>\n",
       "      <td>HOMICIDE</td>\n",
       "      <td>Violent &amp; Homicide</td>\n",
       "    </tr>\n",
       "    <tr>\n",
       "      <th>11</th>\n",
       "      <td>HUMAN TRAFFICKING</td>\n",
       "      <td>Violent &amp; Homicide</td>\n",
       "    </tr>\n",
       "    <tr>\n",
       "      <th>12</th>\n",
       "      <td>INTERFERENCE WITH PUBLIC OFFICER</td>\n",
       "      <td>Disorderly Conduct</td>\n",
       "    </tr>\n",
       "    <tr>\n",
       "      <th>13</th>\n",
       "      <td>INTIMIDATION</td>\n",
       "      <td>Violent &amp; Homicide</td>\n",
       "    </tr>\n",
       "    <tr>\n",
       "      <th>14</th>\n",
       "      <td>KIDNAPPING</td>\n",
       "      <td>Violent &amp; Homicide</td>\n",
       "    </tr>\n",
       "    <tr>\n",
       "      <th>15</th>\n",
       "      <td>LIQUOR LAW VIOLATION</td>\n",
       "      <td>Disorderly Conduct</td>\n",
       "    </tr>\n",
       "    <tr>\n",
       "      <th>16</th>\n",
       "      <td>MOTOR VEHICLE THEFT</td>\n",
       "      <td>Property Offences</td>\n",
       "    </tr>\n",
       "    <tr>\n",
       "      <th>17</th>\n",
       "      <td>NARCOTICS</td>\n",
       "      <td>Disorderly Conduct</td>\n",
       "    </tr>\n",
       "    <tr>\n",
       "      <th>18</th>\n",
       "      <td>OBSCENITY</td>\n",
       "      <td>Sexual Offences</td>\n",
       "    </tr>\n",
       "    <tr>\n",
       "      <th>19</th>\n",
       "      <td>OFFENSE INVOLVING CHILDREN</td>\n",
       "      <td>Others</td>\n",
       "    </tr>\n",
       "    <tr>\n",
       "      <th>20</th>\n",
       "      <td>OTHER OFFENSE</td>\n",
       "      <td>Others</td>\n",
       "    </tr>\n",
       "    <tr>\n",
       "      <th>21</th>\n",
       "      <td>PROSTITUTION</td>\n",
       "      <td>Sexual Offences</td>\n",
       "    </tr>\n",
       "    <tr>\n",
       "      <th>22</th>\n",
       "      <td>PUBLIC INDECENCY</td>\n",
       "      <td>Sexual Offences</td>\n",
       "    </tr>\n",
       "    <tr>\n",
       "      <th>23</th>\n",
       "      <td>PUBLIC PEACE VIOLATION</td>\n",
       "      <td>Disorderly Conduct</td>\n",
       "    </tr>\n",
       "    <tr>\n",
       "      <th>24</th>\n",
       "      <td>RITUALISM</td>\n",
       "      <td>Violent &amp; Homicide</td>\n",
       "    </tr>\n",
       "    <tr>\n",
       "      <th>25</th>\n",
       "      <td>ROBBERY</td>\n",
       "      <td>Property Offences</td>\n",
       "    </tr>\n",
       "    <tr>\n",
       "      <th>26</th>\n",
       "      <td>SEX OFFENSE</td>\n",
       "      <td>Sexual Offences</td>\n",
       "    </tr>\n",
       "    <tr>\n",
       "      <th>27</th>\n",
       "      <td>STALKING</td>\n",
       "      <td>Disorderly Conduct</td>\n",
       "    </tr>\n",
       "    <tr>\n",
       "      <th>28</th>\n",
       "      <td>THEFT</td>\n",
       "      <td>Property Offences</td>\n",
       "    </tr>\n",
       "    <tr>\n",
       "      <th>29</th>\n",
       "      <td>WEAPONS VIOLATION</td>\n",
       "      <td>Violent &amp; Homicide</td>\n",
       "    </tr>\n",
       "  </tbody>\n",
       "</table>\n",
       "</div>"
      ],
      "text/plain": [
       "                         primary_type               class\n",
       "0                               ARSON   Property Offences\n",
       "1                             ASSAULT  Violent & Homicide\n",
       "2                             BATTERY  Violent & Homicide\n",
       "3                            BURGLARY   Property Offences\n",
       "4   CONCEALED CARRY LICENSE VIOLATION  Violent & Homicide\n",
       "5                     CRIMINAL DAMAGE   Property Offences\n",
       "6             CRIMINAL SEXUAL ASSAULT     Sexual Offences\n",
       "7                   CRIMINAL TRESPASS  Disorderly Conduct\n",
       "8                  DECEPTIVE PRACTICE   Property Offences\n",
       "9                            GAMBLING  Disorderly Conduct\n",
       "10                           HOMICIDE  Violent & Homicide\n",
       "11                  HUMAN TRAFFICKING  Violent & Homicide\n",
       "12   INTERFERENCE WITH PUBLIC OFFICER  Disorderly Conduct\n",
       "13                       INTIMIDATION  Violent & Homicide\n",
       "14                         KIDNAPPING  Violent & Homicide\n",
       "15               LIQUOR LAW VIOLATION  Disorderly Conduct\n",
       "16                MOTOR VEHICLE THEFT   Property Offences\n",
       "17                          NARCOTICS  Disorderly Conduct\n",
       "18                          OBSCENITY     Sexual Offences\n",
       "19         OFFENSE INVOLVING CHILDREN              Others\n",
       "20                      OTHER OFFENSE              Others\n",
       "21                       PROSTITUTION     Sexual Offences\n",
       "22                   PUBLIC INDECENCY     Sexual Offences\n",
       "23             PUBLIC PEACE VIOLATION  Disorderly Conduct\n",
       "24                          RITUALISM  Violent & Homicide\n",
       "25                            ROBBERY   Property Offences\n",
       "26                        SEX OFFENSE     Sexual Offences\n",
       "27                           STALKING  Disorderly Conduct\n",
       "28                              THEFT   Property Offences\n",
       "29                  WEAPONS VIOLATION  Violent & Homicide"
      ]
     },
     "execution_count": 8,
     "metadata": {},
     "output_type": "execute_result"
    }
   ],
   "source": [
    "pd.read_csv('Crimes Classifications.csv')"
   ]
  },
  {
   "cell_type": "markdown",
   "id": "3881dd71",
   "metadata": {},
   "source": [
    "We will insert a new column into the dataset, denoting the corresponding class for each crime."
   ]
  },
  {
   "cell_type": "markdown",
   "id": "8a9aa529",
   "metadata": {},
   "source": [
    "```sql\n",
    "ALTER TABLE crimes\n",
    "ADD crime_class VARCHAR(50)\n",
    "\n",
    "UPDATE crimes\n",
    "SET crime_class = (\n",
    "\tSELECT crime_class.crime_class\n",
    "\tFROM crime_class\n",
    "\tWHERE crime_class.primary_type = crimes.primary_type\n",
    ")\n",
    "```"
   ]
  },
  {
   "cell_type": "markdown",
   "id": "68b85aa2",
   "metadata": {},
   "source": [
    "## 2.2: Districts as Crime Locations"
   ]
  },
  {
   "cell_type": "markdown",
   "id": "fb7f8286",
   "metadata": {},
   "source": [
    "Several columns within the dataset provide geographical information pertaining to the incidents, namely:\n",
    "- Block\n",
    "- Location Description\n",
    "- Beat\n",
    "- District\n",
    "- Ward\n",
    "- Community Area\n",
    "- X & Y Coordinates\n",
    "- Latitude & Longitude (Location)"
   ]
  },
  {
   "cell_type": "markdown",
   "id": "83e8652d",
   "metadata": {},
   "source": [
    "Due to privacy considerations for crime victims, addresses are presented at the block level only, with coordinates, latitudes, and longitudes intentionally shifted. So, these columns will not be utilized to represent incident locations."
   ]
  },
  {
   "cell_type": "markdown",
   "id": "9300528b",
   "metadata": {},
   "source": [
    "For the \"Block\" and \"Location Description\" columns, some records exhibit ambiguity and may not be suitable as reliable geographical classifiers."
   ]
  },
  {
   "cell_type": "markdown",
   "id": "7a9839be",
   "metadata": {},
   "source": [
    "<img src=\"Screenshots/2.2_block_location_description.png\"/>"
   ]
  },
  {
   "cell_type": "markdown",
   "id": "92e9a84a",
   "metadata": {},
   "source": [
    "While the \"Beat\" column does not have null values and offers precision in classifying incident locations, the sheer volume of approximately 300 beats in Chicago presents challenges for effective visualization in the dashboard."
   ]
  },
  {
   "cell_type": "markdown",
   "id": "cc1e5d76",
   "metadata": {},
   "source": [
    "Hence, we have opted to employ the \"District,\" \"Ward,\" and \"Community Area\" columns as location classifiers.<br>\n",
    "In this project, we specifically selected the \"District\" column for our incident location analysis due to its minimal null values. Any null values can be addressed by replacing them with the modal district of the corresponding beat, signifying the most frequently occurring district associated with the respective beat. <br>\n",
    "Now, let's proceed to create a table dedicated to storing the modal district for each beat."
   ]
  },
  {
   "cell_type": "markdown",
   "id": "82623ed5",
   "metadata": {},
   "source": [
    "```sql\n",
    "CREATE TABLE modal_district (\n",
    "\tbeat VARCHAR(10) NOT NULL PRIMARY KEY,\n",
    "\tdistrict VARCHAR(10) NOT NULL,\n",
    "\tfreq bigint NOT NULL\n",
    ");\n",
    "\n",
    "INSERT INTO modal_district (\n",
    "\tWITH count_freq AS (\n",
    "\t\tSELECT \n",
    "\t\t\tbeat, \n",
    "\t\t\tdistrict,\n",
    "\t\t\tCOUNT(district) AS freq,\n",
    "\t\t\tRANK() OVER (PARTITION BY beat ORDER BY COUNT(district) DESC) AS seq\n",
    "\t\t FROM crimes\n",
    "\t\t GROUP BY beat, district\n",
    "\t\t)\n",
    "\tSELECT\n",
    "\t\tbeat, district, freq\n",
    "\tFROM count_freq\n",
    "\tWHERE seq = 1\n",
    ");\n",
    "\n",
    "SELECT *\n",
    "FROM modal_district\n",
    "LIMIT 5;\n",
    "```"
   ]
  },
  {
   "cell_type": "markdown",
   "id": "eebcd112",
   "metadata": {},
   "source": [
    "<img src=\"Screenshots/2.2_modal_district.png\"/>"
   ]
  },
  {
   "cell_type": "markdown",
   "id": "3e24eaf3",
   "metadata": {},
   "source": [
    "To mitigate potential unforeseen circumstances during the dataset update process, we have implemented a precautionary measure by creating a Temp Table. This table serves as a pilot test on a one-year dataset, allowing us to safely fill in null values in the \"District\" column using the modal district."
   ]
  },
  {
   "cell_type": "markdown",
   "id": "fd2ae46a",
   "metadata": {},
   "source": [
    "```sql\n",
    "DROP TABLE IF EXISTS temp_crimes;\n",
    "\n",
    "CREATE TEMP TABLE temp_crimes (\n",
    "\tid BIGSERIAL NOT NULL PRIMARY KEY,\n",
    "\tcase_no VARCHAR(10),\n",
    "\tcrime_date TIMESTAMP ,\n",
    "\tblock VARCHAR(100),\n",
    "\tiucr VARCHAR(10),\n",
    "\tprimary_type VARCHAR(50),\n",
    "\tdescription VARCHAR(100),\n",
    "\tlocation_description VARCHAR(500),\n",
    "\tarrest BOOLEAN,\n",
    "\tdomestic BOOLEAN,\n",
    "\tbeat VARCHAR(10),\n",
    "\tdistrict VARCHAR(10),\n",
    "\tward VARCHAR(10),\n",
    "\tcommunity_area VARCHAR(10),\n",
    "\tfbi_code VARCHAR(10),\n",
    "\tx_coord FLOAT(16),\n",
    "\ty_coord FLOAT(16),\n",
    "\tcrime_year SMALLINT,\n",
    "\tupdated_on TIMESTAMP,\n",
    "\tlat FLOAT(16),\n",
    "\tlong FLOAT(16),\n",
    "\tloc VARCHAR(100)\n",
    ");\n",
    "\n",
    "INSERT INTO temp_crimes (\n",
    "\tSELECT *\n",
    "\tFROM crimes\n",
    "\tWHERE crime_year = 2008\n",
    ");\n",
    "\n",
    "SELECT id, beat, district, ward, crime_year\n",
    "FROM temp_crimes\n",
    "WHERE district IS NULL\n",
    "ORDER BY id\n",
    "LIMIT 5;\n",
    "```"
   ]
  },
  {
   "cell_type": "markdown",
   "id": "cad48c57",
   "metadata": {},
   "source": [
    "<img src=\"Screenshots/2.2_temp_table_before.png\"/>"
   ]
  },
  {
   "cell_type": "markdown",
   "id": "8dd440fe",
   "metadata": {},
   "source": [
    "Now, we will proceed to populate the null values in the \"District\" column of the Temp Table to assess whether the anticipated results are achieved."
   ]
  },
  {
   "cell_type": "markdown",
   "id": "61e58c90",
   "metadata": {},
   "source": [
    "```sql\n",
    "UPDATE temp_crimes\n",
    "SET district = (\n",
    "\tSELECT district\n",
    "\tFROM modal_district\n",
    "\tWHERE modal_district.beat = temp_crimes.beat\n",
    ")\n",
    "WHERE district IS NULL;\n",
    "\n",
    "SELECT id, beat, district, ward, crime_year\n",
    "FROM temp_crimes\n",
    "WHERE id IN (6376239, 6420058, 6451103, 6459556, 6462999)\n",
    "ORDER BY id;\n",
    "```"
   ]
  },
  {
   "cell_type": "markdown",
   "id": "dcbde1c4",
   "metadata": {},
   "source": [
    "<img src=\"Screenshots/2.2_temp_table_after.png\"/>"
   ]
  },
  {
   "cell_type": "markdown",
   "id": "da2d5d5b",
   "metadata": {},
   "source": [
    "With the queries yielding the expected results in the temporary table, we can confidently apply the same procedures to the entire dataset."
   ]
  },
  {
   "cell_type": "markdown",
   "id": "bfa406b8",
   "metadata": {},
   "source": [
    "```sql\n",
    "UPDATE crimes\n",
    "SET district = (\n",
    "\tSELECT district\n",
    "\tFROM modal_district\n",
    "\tWHERE modal_district.beat = crimes.beat\n",
    ")\n",
    "WHERE district IS NULL;\n",
    "```"
   ]
  },
  {
   "cell_type": "markdown",
   "id": "c93e5dad",
   "metadata": {},
   "source": [
    "To streamline the mapping relationships in the visualization stage using Power BI, it is necessary to remove the leading zeros in each district. Therefore, we will introduce an additional column, \"dist_num,\" to facilitate this adjustment."
   ]
  },
  {
   "cell_type": "markdown",
   "id": "d92b0958",
   "metadata": {},
   "source": [
    "```sql\n",
    "ALTER TABLE crimes\n",
    "ADD dist_num VARCHAR(10);\n",
    "\n",
    "UPDATE crimes\n",
    "SET dist_num = (\n",
    "\tCASE\n",
    "\t\tWHEN SUBSTRING(district, 2, 1) = '0' THEN RIGHT(district, 1)\n",
    "\t\tELSE RIGHT(district, 2)\n",
    "\tEND\n",
    ");\n",
    "```"
   ]
  },
  {
   "cell_type": "markdown",
   "id": "5c51ae58",
   "metadata": {},
   "source": [
    "# 3: Exploratory Data Analysis"
   ]
  },
  {
   "cell_type": "markdown",
   "id": "4d506166",
   "metadata": {},
   "source": [
    "## 3.1: What were the numbers of crimes in each year?"
   ]
  },
  {
   "cell_type": "markdown",
   "id": "26e77f47",
   "metadata": {},
   "source": [
    "```sql\n",
    "SELECT crime_year, COUNT(*) AS total_crimes\n",
    "FROM crimes\n",
    "GROUP BY crime_year\n",
    "HAVING crime_year % 4 = 0 --Records are displayed every 4 years\n",
    "ORDER BY crime_year DESC\n",
    ";\n",
    "```"
   ]
  },
  {
   "cell_type": "markdown",
   "id": "0db9786b",
   "metadata": {},
   "source": [
    "<img src=\"Screenshots/3.1_crimes_per_year.png\"/>"
   ]
  },
  {
   "cell_type": "markdown",
   "id": "8be32107",
   "metadata": {},
   "source": [
    "There has been a decreasing trend in the number of crimes in Chicago from 2001 to 2023."
   ]
  },
  {
   "cell_type": "markdown",
   "id": "7b430945",
   "metadata": {},
   "source": [
    "## 3.2: What were the numbers of crimes in each month?"
   ]
  },
  {
   "cell_type": "markdown",
   "id": "6a1fb591",
   "metadata": {},
   "source": [
    "```sql\n",
    "SELECT crime_month, freq\n",
    "FROM (\n",
    "\tSELECT EXTRACT(MONTH FROM crime_date) AS crime_month, COUNT(*) AS freq\n",
    "\tFROM crimes\n",
    "\tGROUP BY crime_month\n",
    "\t)\n",
    "WHERE crime_month % 2 = 0; --Records are displayed bimonthly\n",
    "```"
   ]
  },
  {
   "cell_type": "markdown",
   "id": "24ee8653",
   "metadata": {},
   "source": [
    "<img src=\"Screenshots/3.2_crimes_per_month.png\"/>"
   ]
  },
  {
   "cell_type": "markdown",
   "id": "0fa75119",
   "metadata": {},
   "source": [
    "The number of crimes appears to exhibit a positive correlation with temperature, with more incidents occurring in summer and fewer in winter."
   ]
  },
  {
   "cell_type": "markdown",
   "id": "b4dd8178",
   "metadata": {},
   "source": [
    "## 3.3: What were the arrest rates in each year?"
   ]
  },
  {
   "cell_type": "markdown",
   "id": "8b06d5c7",
   "metadata": {},
   "source": [
    "```sql\n",
    "WITH arrested AS (\n",
    "\tSELECT crime_year, arrest, CAST(COUNT(*) AS NUMERIC) AS arrested\n",
    "\tFROM crimes\n",
    "\tGROUP BY crime_year, arrest\n",
    "\tHAVING arrest = True\n",
    "),\n",
    "total AS (\n",
    "\tSELECT crime_year, CAST(COUNT(*) AS NUMERIC) AS total\n",
    "\tFROM crimes\n",
    "\tGROUP BY crime_year\n",
    ")\n",
    "SELECT\n",
    "    total.crime_year,\n",
    "    ROUND(arrested.arrested/total.total*100,2) AS arrested_rate\n",
    "FROM arrested\n",
    "INNER JOIN total ON arrested.crime_year=total.crime_year\n",
    "WHERE total.crime_year % 4 = 0 --Records are displayed every 4 years\n",
    "ORDER BY crime_year DESC\n",
    "```"
   ]
  },
  {
   "cell_type": "markdown",
   "id": "8725f758",
   "metadata": {},
   "source": [
    "<img src=\"Screenshots/3.3_arrest_rate_per_year.png\"/>"
   ]
  },
  {
   "cell_type": "markdown",
   "id": "364b47a3",
   "metadata": {},
   "source": [
    "The arrest rate also exhibits a decreasing trend from 2001 to 2023. One possible explanation for the lower arrest rates in recent years is that crimes from these years may still be under investigation."
   ]
  },
  {
   "cell_type": "markdown",
   "id": "e226a38d",
   "metadata": {},
   "source": [
    "## 3.4: What were the domestic crime rates in each year?"
   ]
  },
  {
   "cell_type": "markdown",
   "id": "137def5b",
   "metadata": {},
   "source": [
    "```sql\n",
    "WITH domestic AS (\n",
    "\tSELECT crime_year, domestic, CAST(COUNT(*) AS NUMERIC) AS domestic_num\n",
    "\tFROM crimes\n",
    "\tGROUP BY crime_year, domestic\n",
    "\tHAVING domestic = True\n",
    "),\n",
    "total AS (\n",
    "\tSELECT crime_year, CAST(COUNT(*) AS NUMERIC) AS total\n",
    "\tFROM crimes\n",
    "\tGROUP BY crime_year\n",
    ")\n",
    "SELECT\n",
    "\ttotal.crime_year,\n",
    "\tROUND(domestic.domestic_num/total.total*100,2) AS domestic_rate\n",
    "FROM domestic\n",
    "INNER JOIN total ON domestic.crime_year=total.crime_year\n",
    "ORDER BY crime_year DESC\n",
    "LIMIT 6;\n",
    "```"
   ]
  },
  {
   "cell_type": "markdown",
   "id": "b82d2381",
   "metadata": {},
   "source": [
    "<img src=\"Screenshots/3.4_domestic_rate_per_year.png\"/>"
   ]
  },
  {
   "cell_type": "markdown",
   "id": "bcc43977",
   "metadata": {},
   "source": [
    "The domestic crime rate exhibited a gradual increase from 2001 to 2019. However, during the pandemic years (2020 and 2021), there was a significant spike in the rate, followed by a subsequent decrease. <br> The observed fluctuations in the domestic crime rate during the pandemic and its subsequent decline may be attributed to the implementation of lockdown policies."
   ]
  },
  {
   "cell_type": "markdown",
   "id": "bcdb0b1f",
   "metadata": {},
   "source": [
    "# 4: Dashboard"
   ]
  },
  {
   "cell_type": "markdown",
   "id": "10d4167a",
   "metadata": {},
   "source": [
    "## 4.1: Design"
   ]
  },
  {
   "cell_type": "markdown",
   "id": "dc432fe0",
   "metadata": {},
   "source": [
    "\n",
    "The dashboard is divided into two pages, each dedicated to reporting temporal and geographic data. <br>\n",
    "The temporal page presents crime rates by year on the left, alongside arrested rates and domestic rates. Meanwhile, on the right side, a horizontal bar chart illustrates the distribution of crimes across different months within a year, with crime types represented as the legend."
   ]
  },
  {
   "cell_type": "markdown",
   "id": "089a448d",
   "metadata": {},
   "source": [
    "<img src=\"Screenshots/4.1_dashboard_1.png\"/>"
   ]
  },
  {
   "cell_type": "markdown",
   "id": "b8d3fcf3",
   "metadata": {},
   "source": [
    "The geographic page of the dashboard highlights the average crime rate for each police district, visually represented by color shading the region (green indicating low crime rates, while red indicates high crime rates). <br>\n",
    "Positioned at the bottom right, three percentages are reported: average crime rate, average arrest rate, and average domestic crime rate. <br>\n",
    "Additionally, user-input filters are incorporated to facilitate the selection of data within specific time ranges and crime types."
   ]
  },
  {
   "cell_type": "markdown",
   "id": "87445773",
   "metadata": {},
   "source": [
    "<img src=\"Screenshots/4.1_dashboard_2.png\"/>"
   ]
  },
  {
   "cell_type": "markdown",
   "id": "06377e08",
   "metadata": {},
   "source": [
    "Furthermore, when a user hovers over a particular district, a detailed report for that district is displayed. This report includes information such as the district's population, average number of crimes, crime rate, arrested rate, and domestic rate. The small blue bar within each gauge represents the average over the selected time period for the corresponding quantities."
   ]
  },
  {
   "cell_type": "markdown",
   "id": "3e1d890c",
   "metadata": {},
   "source": [
    "<img src=\"Screenshots/4.1_dashboard_3.png\"/>"
   ]
  },
  {
   "cell_type": "markdown",
   "id": "78a0c6d7",
   "metadata": {},
   "source": [
    "## 4.2: Findings"
   ]
  },
  {
   "cell_type": "markdown",
   "id": "a1f44be4",
   "metadata": {},
   "source": [
    "### 4.2.1: Crime Rates over years"
   ]
  },
  {
   "cell_type": "markdown",
   "id": "3ebd6ef2",
   "metadata": {},
   "source": [
    "<img src=\"Screenshots/4.2.1_crime_rates.png\"/>"
   ]
  },
  {
   "cell_type": "markdown",
   "id": "d82fabe6",
   "metadata": {},
   "source": [
    "Reiterating the analysis from Section 3, the chart above visually depicts the trends observed in crime rates (comprising both arrested and unarrested incidents). Notably, the arrested rate exhibits a decreasing trajectory over the specified time period. Concurrently, domestic rates demonstrate a gradual increase, experiencing a notable spike during the COVID-19 period, followed by a subsequent decline."
   ]
  },
  {
   "cell_type": "markdown",
   "id": "2955d95b",
   "metadata": {},
   "source": [
    "### 4.2.2: Number of Crimes by Month"
   ]
  },
  {
   "cell_type": "markdown",
   "id": "29271144",
   "metadata": {},
   "source": [
    "<img src=\"Screenshots/4.2.2_crimes_by_month.png\"/>"
   ]
  },
  {
   "cell_type": "markdown",
   "id": "1fc77fb3",
   "metadata": {},
   "source": [
    "Similarly aligned with the insights presented in Section 3.2, the chart affirms that the number of crimes tends to decrease during the winter months (December to February), particularly for crimes associated with property offenses and violence. <br>\n",
    "Moreover, it is evident that Property Offenses constitute the majority of reported crimes, whereas Sexual Offenses represent the least prevalent type of crimes in Chicago."
   ]
  },
  {
   "cell_type": "markdown",
   "id": "6cbdc91c",
   "metadata": {},
   "source": [
    "## 4.2.3: Crime Types by District"
   ]
  },
  {
   "cell_type": "markdown",
   "id": "47020bcb",
   "metadata": {},
   "source": [
    "<img src=\"Screenshots/4.2.3_crime_type_by_district.png\"/>"
   ]
  },
  {
   "cell_type": "markdown",
   "id": "5d12e8d9",
   "metadata": {},
   "source": [
    "Based on the presented figures, it is evident that crime rates in South-East Chicago are generally higher, while those in the North are comparatively lower. <br>\n",
    "Specifically, the top three districts with the highest crime rates are Districts 7, 11, and 15, each exhibiting rates surpassing 24%. Notably, crimes categorized as Disorderly Conduct and Sexual Offenses are more likely to occur in these districts. <br>\n",
    "Conversely, Districts 1, 18, and 19, situated in generally safer regions and proximity to the business center, demonstrate relatively higher crime rates in Property Offenses compared to other types of crimes."
   ]
  },
  {
   "cell_type": "markdown",
   "id": "75033a6b",
   "metadata": {},
   "source": [
    "# 5: Conclusion"
   ]
  },
  {
   "cell_type": "markdown",
   "id": "ddac1389",
   "metadata": {},
   "source": [
    "In conclusion, this project analyzed Chicago Crime Data spanning from 2001 to 2023 and yielded the following key findings:\n",
    "- The number of crimes and crime rates exhibit a decreasing trend over the years.\n",
    "- Arrested rates show a consistent decline over the years.\n",
    "- The domestic crime rate experiences an increase, particularly during the pandemic, followed by a subsequent decrease.\n",
    "- Property Offense emerges as the most prevalent type of crime in Chicago.\n",
    "- Crime rates tend to be lower during the winter months.\n",
    "- North districts generally showcase lower crime rates compared to their counterparts in the South-East.\n",
    "- Districts 7, 11, and 15 stand out with the highest crime rates.\n",
    "- Property Offenses are more likely to occur in Center Chicago compared to other types of crimes."
   ]
  }
 ],
 "metadata": {
  "kernelspec": {
   "display_name": "Python 3 (ipykernel)",
   "language": "python",
   "name": "python3"
  },
  "language_info": {
   "codemirror_mode": {
    "name": "ipython",
    "version": 3
   },
   "file_extension": ".py",
   "mimetype": "text/x-python",
   "name": "python",
   "nbconvert_exporter": "python",
   "pygments_lexer": "ipython3",
   "version": "3.9.12"
  }
 },
 "nbformat": 4,
 "nbformat_minor": 5
}
